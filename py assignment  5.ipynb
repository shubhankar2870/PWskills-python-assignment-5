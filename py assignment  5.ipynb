{
 "cells": [
  {
   "cell_type": "code",
   "execution_count": 1,
   "id": "766e6ccd-936a-4660-9b07-69e191bc1859",
   "metadata": {},
   "outputs": [],
   "source": [
    "#FOR LOOP"
   ]
  },
  {
   "cell_type": "code",
   "execution_count": 4,
   "id": "b3c5cc11-346c-4b54-b54c-f55b890faffe",
   "metadata": {},
   "outputs": [
    {
     "name": "stdout",
     "output_type": "stream",
     "text": [
      "1 2 3 4 5 6 7 8 9 10 "
     ]
    }
   ],
   "source": [
    "#1\n",
    "for i in range(1, 11):\n",
    "    print(i, end=\" \")"
   ]
  },
  {
   "cell_type": "raw",
   "id": "d02553e2-7d04-4c36-b702-454031e205c1",
   "metadata": {},
   "source": [
    "#2\n",
    "for loop is used when we know the starting and ending point in a code\n",
    "while loop is used when we dont know the ending point in the code"
   ]
  },
  {
   "cell_type": "code",
   "execution_count": 5,
   "id": "66d5ab2c-1d22-46a6-b546-63cf1a20749b",
   "metadata": {},
   "outputs": [
    {
     "name": "stdout",
     "output_type": "stream",
     "text": [
      "the sum of numbers from 1 to 100 is:  5050\n"
     ]
    }
   ],
   "source": [
    "#3\n",
    "s = 0\n",
    "for i in range(1, 101):\n",
    "    s += i\n",
    "print(\"the sum of numbers from 1 to 100 is: \", s)"
   ]
  },
  {
   "cell_type": "code",
   "execution_count": 6,
   "id": "8b4b106d-bf59-4bd0-ae05-f6c2143be0fe",
   "metadata": {},
   "outputs": [
    {
     "name": "stdout",
     "output_type": "stream",
     "text": [
      "1\n",
      "2\n",
      "3\n",
      "4\n",
      "5\n"
     ]
    }
   ],
   "source": [
    "#4\n",
    "lst = [1, 2, 3, 4, 5]\n",
    "for i in lst:\n",
    "    print(i)"
   ]
  },
  {
   "cell_type": "code",
   "execution_count": 7,
   "id": "4b12c353-aa78-4601-9ca7-c623cbc75a0a",
   "metadata": {},
   "outputs": [
    {
     "name": "stdout",
     "output_type": "stream",
     "text": [
      "the product of all the numbers in the list is:  120\n"
     ]
    }
   ],
   "source": [
    "#5\n",
    "product = 1\n",
    "lst = [1, 2, 3, 4, 5]\n",
    "for i in lst:\n",
    "    product *= i\n",
    "print(\"the product of all the numbers in the list is: \", product)"
   ]
  },
  {
   "cell_type": "code",
   "execution_count": 8,
   "id": "0671fe25-1121-4b9f-b66a-b0545fda0c93",
   "metadata": {},
   "outputs": [
    {
     "name": "stdout",
     "output_type": "stream",
     "text": [
      "2\n",
      "4\n",
      "6\n",
      "8\n",
      "10\n",
      "12\n",
      "14\n",
      "16\n",
      "18\n",
      "20\n"
     ]
    }
   ],
   "source": [
    "#6\n",
    "for i in range(1, 21):\n",
    "    if i%2 == 0:\n",
    "        print(i)"
   ]
  },
  {
   "cell_type": "code",
   "execution_count": 10,
   "id": "f675a3a1-0fbc-40d4-b0d1-d63d97e11498",
   "metadata": {},
   "outputs": [
    {
     "name": "stdout",
     "output_type": "stream",
     "text": [
      "the factorial of n is:  120\n"
     ]
    }
   ],
   "source": [
    "#7\n",
    "n = 5\n",
    "fac = 1\n",
    "for i in range(n, 0, -1):\n",
    "    fac *= i\n",
    "print(\"the factorial of n is: \",fac)"
   ]
  },
  {
   "cell_type": "code",
   "execution_count": 14,
   "id": "d6f90b62-80e2-47ce-bb38-6730221ca6bc",
   "metadata": {},
   "outputs": [
    {
     "name": "stdout",
     "output_type": "stream",
     "text": [
      " the character at index 0 is: h\n",
      " the character at index 1 is: e\n",
      " the character at index 2 is: l\n",
      " the character at index 3 is: l\n",
      " the character at index 4 is: o\n"
     ]
    }
   ],
   "source": [
    "#8\n",
    "s = \"hello\"\n",
    "for i in range(0, len(s)):\n",
    "    print(f\" the character at index {i} is: {s[i]}\")"
   ]
  },
  {
   "cell_type": "code",
   "execution_count": 15,
   "id": "fbbc0bda-8435-4bf0-be96-abd5e39cacab",
   "metadata": {},
   "outputs": [
    {
     "name": "stdout",
     "output_type": "stream",
     "text": [
      "the largest number in the list is:  68\n"
     ]
    }
   ],
   "source": [
    "#9\n",
    "lst = [1, 68, 19, 14, 24, 59, 61]\n",
    "maxi = lst[0]\n",
    "for i in range(1, len(lst)):\n",
    "    if lst[i] >  maxi:\n",
    "        maxi = lst[i]\n",
    "print(\"the largest number in the list is: \", maxi)"
   ]
  },
  {
   "cell_type": "code",
   "execution_count": 16,
   "id": "ae4425f1-4d02-49ce-8e5e-08c4985eee2d",
   "metadata": {},
   "outputs": [
    {
     "name": "stdout",
     "output_type": "stream",
     "text": [
      "0 1 1 2 3 5 8 13 21 34 55 "
     ]
    }
   ],
   "source": [
    "#10\n",
    "n = 10\n",
    "a, b = 0, 1\n",
    "print(f\"{a} {b}\", end=\" \")\n",
    "for i in range(2, n+1):\n",
    "    next_number = a + b\n",
    "    print(next_number, end=\" \")\n",
    "    a, b = b, next_number\n",
    "    "
   ]
  },
  {
   "cell_type": "code",
   "execution_count": 17,
   "id": "9babcbd9-73af-4d2e-bfd2-084024bdfd25",
   "metadata": {},
   "outputs": [
    {
     "name": "stdout",
     "output_type": "stream",
     "text": [
      "the number of vowels in string s is:  8\n"
     ]
    }
   ],
   "source": [
    "#11\n",
    "s = \"this is a sample sentence\"\n",
    "vowel_count = 0\n",
    "for i in s:\n",
    "    if i.lower() in \"aeiou\":\n",
    "        vowel_count += 1\n",
    "print(\"the number of vowels in string s is: \", vowel_count)"
   ]
  },
  {
   "cell_type": "code",
   "execution_count": 18,
   "id": "fad275d1-e80b-45b3-8f88-48344279ba8f",
   "metadata": {},
   "outputs": [
    {
     "name": "stdout",
     "output_type": "stream",
     "text": [
      "11 * 1 = 11\n",
      "11 * 2 = 22\n",
      "11 * 3 = 33\n",
      "11 * 4 = 44\n",
      "11 * 5 = 55\n",
      "11 * 6 = 66\n",
      "11 * 7 = 77\n",
      "11 * 8 = 88\n",
      "11 * 9 = 99\n",
      "11 * 10 = 110\n"
     ]
    }
   ],
   "source": [
    "#12\n",
    "n = 11\n",
    "for i in range(1, 11):\n",
    "    print(f\"{n} * {i} = {n*i}\")"
   ]
  },
  {
   "cell_type": "code",
   "execution_count": 19,
   "id": "0b32f3e8-cc04-4aaf-ab32-348b068c0460",
   "metadata": {},
   "outputs": [
    {
     "name": "stdout",
     "output_type": "stream",
     "text": [
      "reversed list:  [5, 4, 3, 2, 1]\n"
     ]
    }
   ],
   "source": [
    "#13\n",
    "lst = [1, 2, 3, 4, 5]\n",
    "reversed_lst = []\n",
    "for i in range(len(lst)-1, -1, -1):\n",
    "    reversed_lst.append(lst[i])\n",
    "print(\"reversed list: \", reversed_lst)"
   ]
  },
  {
   "cell_type": "code",
   "execution_count": 20,
   "id": "4ac6678a-df9c-474f-a97a-14671843435b",
   "metadata": {},
   "outputs": [
    {
     "name": "stdout",
     "output_type": "stream",
     "text": [
      "common elements in both lists:  [3, 4, 5]\n"
     ]
    }
   ],
   "source": [
    "#14\n",
    "list1 = [1, 2, 3, 4, 5]\n",
    "list2 = [3, 4, 5, 6, 7]\n",
    "common_elements = []\n",
    "for element1 in list1:\n",
    "        if element1 in list2 and element1 not in common_elements:\n",
    "            common_elements.append(element1)\n",
    "print(\"common elements in both lists: \", common_elements)"
   ]
  },
  {
   "cell_type": "code",
   "execution_count": 21,
   "id": "a44a3e18-af0b-458e-92c6-8061cdfd26b1",
   "metadata": {},
   "outputs": [
    {
     "name": "stdout",
     "output_type": "stream",
     "text": [
      "Key: apple, Value: 3\n",
      "Key: banana, Value: 2\n",
      "Key: cherry, Value: 5\n"
     ]
    }
   ],
   "source": [
    "#15\n",
    "my_dict = {\"apple\": 3, \"banana\": 2, \"cherry\": 5}\n",
    "\n",
    "# Iterate through the keys and values using a for loop\n",
    "for key, value in my_dict.items():\n",
    "    print(f\"Key: {key}, Value: {value}\")"
   ]
  },
  {
   "cell_type": "code",
   "execution_count": 25,
   "id": "371d1326-631b-496c-9423-e8d77b5c46c6",
   "metadata": {},
   "outputs": [
    {
     "name": "stdin",
     "output_type": "stream",
     "text": [
      "Enter the first number:  1024\n",
      "Enter the second number:  60\n"
     ]
    },
    {
     "name": "stdout",
     "output_type": "stream",
     "text": [
      "The GCD of 1024 and 60 is 4\n"
     ]
    }
   ],
   "source": [
    "#16\n",
    "def find_gcd(a, b):\n",
    "    while b:\n",
    "        a, b = b, a % b\n",
    "    return a\n",
    "\n",
    "num1 = int(input(\"Enter the first number: \"))\n",
    "num2 = int(input(\"Enter the second number: \"))\n",
    "\n",
    "if num1 == 0 or num2 == 0:\n",
    "    print(\"GCD is undefined for zero.\")\n",
    "else:\n",
    "    gcd = find_gcd(abs(num1), abs(num2))\n",
    "    print(f\"The GCD of {num1} and {num2} is {gcd}\")"
   ]
  },
  {
   "cell_type": "code",
   "execution_count": 7,
   "id": "014b5992-a808-432d-9287-4e7da099b604",
   "metadata": {},
   "outputs": [
    {
     "name": "stdin",
     "output_type": "stream",
     "text": [
      "enter a string abbaabba\n"
     ]
    },
    {
     "name": "stdout",
     "output_type": "stream",
     "text": [
      "string s is a plaindrome\n"
     ]
    }
   ],
   "source": [
    "#17\n",
    "def check_palindrome(s):\n",
    "    for i in range(0, len(s)):\n",
    "        if s[i] != s[len(s)-1-i]:\n",
    "            return False\n",
    "    return True\n",
    "\n",
    "s = input(\"enter a string\")\n",
    "\n",
    "if check_palindrome(s):\n",
    "    print(\"string s is a plaindrome\")\n",
    "else:\n",
    "    print(\"string is not a palindrome\")\n"
   ]
  },
  {
   "cell_type": "code",
   "execution_count": 2,
   "id": "0640ce3b-1df3-4dd3-9d0c-d074e4e66927",
   "metadata": {},
   "outputs": [
    {
     "name": "stdout",
     "output_type": "stream",
     "text": [
      "[1, 2, 3, 4, 5, 6, 7, 8, 9, 10]\n"
     ]
    }
   ],
   "source": [
    "#18\n",
    "l = [1, 1, 2, 2, 3, 4, 5, 5, 6, 7, 7, 8, 9, 10, 10, 1]\n",
    "unique_list = []\n",
    "for i in l:\n",
    "    if i not in unique_list:\n",
    "        unique_list.append(i)\n",
    "print(unique_list)"
   ]
  },
  {
   "cell_type": "code",
   "execution_count": 1,
   "id": "97bca518-533b-486f-b386-fed796949ba6",
   "metadata": {},
   "outputs": [
    {
     "name": "stdout",
     "output_type": "stream",
     "text": [
      "number of words in the sentence is:  5\n"
     ]
    }
   ],
   "source": [
    "#19\n",
    "s = \"this is a sample sentence\"\n",
    "word_count = 0\n",
    "for i in s:\n",
    "    if i == \" \":\n",
    "        word_count += 1\n",
    "print(\"number of words in the sentence is: \", word_count+1)"
   ]
  },
  {
   "cell_type": "code",
   "execution_count": 2,
   "id": "91c64640-593e-4d39-99e6-ff75b5cf123f",
   "metadata": {},
   "outputs": [
    {
     "name": "stdout",
     "output_type": "stream",
     "text": [
      "the sum of all odd numbers from 1 to 50 is:  625\n"
     ]
    }
   ],
   "source": [
    "#20\n",
    "sum = 0\n",
    "for i in range(1, 51):\n",
    "    if i%2 != 0:\n",
    "        sum += i\n",
    "print(\"the sum of all odd numbers from 1 to 50 is: \", sum)"
   ]
  },
  {
   "cell_type": "code",
   "execution_count": 3,
   "id": "267cbd88-a6ef-4e35-a021-9734466a3a5d",
   "metadata": {},
   "outputs": [],
   "source": [
    "# IF ELSE"
   ]
  },
  {
   "cell_type": "code",
   "execution_count": 4,
   "id": "294b8eb4-1656-4563-967a-63b3c2c38f5e",
   "metadata": {},
   "outputs": [
    {
     "name": "stdin",
     "output_type": "stream",
     "text": [
      "enter a number -10\n"
     ]
    },
    {
     "name": "stdout",
     "output_type": "stream",
     "text": [
      "negative number\n"
     ]
    }
   ],
   "source": [
    "#1\n",
    "n = int(input(\"enter a number\"))\n",
    "if n>0:\n",
    "    print(\"positive number\")\n",
    "elif n<0:\n",
    "    print(\"negative number\")\n",
    "else:\n",
    "    print(\"number is zero\")"
   ]
  },
  {
   "cell_type": "code",
   "execution_count": 5,
   "id": "91ff7faa-46dd-4144-bc7c-00c8a3c3b452",
   "metadata": {},
   "outputs": [
    {
     "name": "stdin",
     "output_type": "stream",
     "text": [
      "enter a number 7\n"
     ]
    },
    {
     "name": "stdout",
     "output_type": "stream",
     "text": [
      "n is odd\n"
     ]
    }
   ],
   "source": [
    "#2\n",
    "n = int(input(\"enter a number\"))\n",
    "if n%2 == 0:\n",
    "    print(\"n is even\")\n",
    "else:\n",
    "    print(\"n is odd\")"
   ]
  },
  {
   "cell_type": "code",
   "execution_count": 6,
   "id": "d5dbde6d-7d39-4d2c-b8de-2f2fe23c930f",
   "metadata": {},
   "outputs": [
    {
     "name": "stdout",
     "output_type": "stream",
     "text": [
      "x is greater than y\n",
      "x is not greater than 15\n"
     ]
    }
   ],
   "source": [
    "#3\n",
    "# Nested if-else statements in Python allow you to have conditional statements within other conditional statements.\n",
    "# This is useful when you need to make decisions based on multiple conditions\n",
    "\n",
    "# Nested if-else example\n",
    "x = 10\n",
    "y = 5\n",
    "\n",
    "if x > y:\n",
    "    print(\"x is greater than y\")\n",
    "    if x > 15:\n",
    "        print(\"x is also greater than 15\")\n",
    "    else:\n",
    "        print(\"x is not greater than 15\")\n",
    "else:\n",
    "    print(\"x is not greater than y\")\n"
   ]
  },
  {
   "cell_type": "code",
   "execution_count": null,
   "id": "e9296618-55b0-4483-bf04-0562bfc88e1b",
   "metadata": {},
   "outputs": [
    {
     "name": "stdin",
     "output_type": "stream",
     "text": [
      "Enter the first number:  3\n",
      "Enter the second number:  7\n",
      "Enter the third number:  2\n"
     ]
    },
    {
     "name": "stdout",
     "output_type": "stream",
     "text": [
      "The largest number is 7\n"
     ]
    }
   ],
   "source": [
    "#4\n",
    "num1 = int(input(\"Enter the first number: \"))\n",
    "num2 = int(input(\"Enter the second number: \"))\n",
    "num3 = int(input(\"Enter the third number: \"))\n",
    "\n",
    "if num1 >= num2 and num1 >= num3:\n",
    "    largest = num1\n",
    "elif num2 >= num1 and num2 >= num3:\n",
    "    largest = num2\n",
    "else:\n",
    "    largest = num3\n",
    "\n",
    "print(\"The largest number is\", largest)\n"
   ]
  },
  {
   "cell_type": "code",
   "execution_count": 10,
   "id": "676adc96-04fb-47ce-9c01-197cbd3e2530",
   "metadata": {},
   "outputs": [
    {
     "name": "stdin",
     "output_type": "stream",
     "text": [
      "enter a number -10\n"
     ]
    },
    {
     "name": "stdout",
     "output_type": "stream",
     "text": [
      "absolute value of  -10  is:  10\n"
     ]
    }
   ],
   "source": [
    "#5\n",
    "n = int(input(\"enter a number\"))\n",
    "print(\"absolute value of \", n, \" is: \", end =\" \")\n",
    "if n<0:\n",
    "    print(-n)\n",
    "else:\n",
    "    print(n)"
   ]
  },
  {
   "cell_type": "code",
   "execution_count": 16,
   "id": "f36cdc2b-d6a1-45ba-ba42-b4543ffbbf8b",
   "metadata": {},
   "outputs": [
    {
     "name": "stdin",
     "output_type": "stream",
     "text": [
      "enter an alphabet E\n"
     ]
    },
    {
     "name": "stdout",
     "output_type": "stream",
     "text": [
      "E is a vowel\n"
     ]
    }
   ],
   "source": [
    "#6\n",
    "c = input(\"enter an alphabet\")\n",
    "if c.lower() in ['a', 'e', 'i', 'o', 'u']:\n",
    "    print(f\"{c} is a vowel\")\n",
    "else:\n",
    "    print(f\"{c} is a consonent\")"
   ]
  },
  {
   "cell_type": "code",
   "execution_count": 18,
   "id": "297cb955-30a2-4aa2-b87c-ba3c7876251e",
   "metadata": {},
   "outputs": [
    {
     "name": "stdin",
     "output_type": "stream",
     "text": [
      "enter your age 17\n"
     ]
    },
    {
     "name": "stdout",
     "output_type": "stream",
     "text": [
      "you can't vote now\n"
     ]
    }
   ],
   "source": [
    "#7\n",
    "age = int(input(\"enter your age\"))\n",
    "if age>=18:\n",
    "    print(\"you can vote\")\n",
    "else:\n",
    "    print(\"you can't vote now\")"
   ]
  },
  {
   "cell_type": "code",
   "execution_count": 3,
   "id": "4afb7f43-3d44-475d-b688-f122973e9a1b",
   "metadata": {},
   "outputs": [
    {
     "name": "stdin",
     "output_type": "stream",
     "text": [
      "enter price of product 100\n"
     ]
    },
    {
     "name": "stdout",
     "output_type": "stream",
     "text": [
      "discounted price will be:  85.0\n"
     ]
    }
   ],
   "source": [
    "#8\n",
    "cost = int(input(\"enter price of product\"))\n",
    "if cost >= 1000:\n",
    "    print(\"discounted price will be: \", cost - cost*(30/100))\n",
    "else:\n",
    "    print(\"discounted price will be: \", cost - cost*(15/100))"
   ]
  },
  {
   "cell_type": "code",
   "execution_count": 6,
   "id": "a4cece60-5346-4dd2-9849-bcfa9ab68ee0",
   "metadata": {},
   "outputs": [
    {
     "name": "stdin",
     "output_type": "stream",
     "text": [
      "enter a number 100.00\n"
     ]
    },
    {
     "name": "stdout",
     "output_type": "stream",
     "text": [
      "the number is within specified range\n"
     ]
    }
   ],
   "source": [
    "#9\n",
    "n = float(input(\"enter a number\"))\n",
    "if 0<=n<=100:\n",
    "    print(\"the number is within specified range\")\n",
    "else:\n",
    "    print(\"the number is outside the specified range\")"
   ]
  },
  {
   "cell_type": "code",
   "execution_count": 7,
   "id": "952566b9-5c75-4819-aec2-a64e1651ec9d",
   "metadata": {},
   "outputs": [
    {
     "name": "stdin",
     "output_type": "stream",
     "text": [
      "Enter the student's score:  79.5\n"
     ]
    },
    {
     "name": "stdout",
     "output_type": "stream",
     "text": [
      "The student's grade is: C\n"
     ]
    }
   ],
   "source": [
    "#10\n",
    "score = float(input(\"Enter the student's score: \"))\n",
    "\n",
    "if score >= 90:\n",
    "    grade = 'A'\n",
    "elif score >= 80:\n",
    "    grade = 'B'\n",
    "elif score >= 70:\n",
    "    grade = 'C'\n",
    "elif score >= 60:\n",
    "    grade = 'D'\n",
    "else:\n",
    "    grade = 'F'\n",
    "\n",
    "print(\"The student's grade is:\", grade)\n"
   ]
  },
  {
   "cell_type": "code",
   "execution_count": 12,
   "id": "a297e3de-542c-4ee4-9b8b-8f385c572fd0",
   "metadata": {},
   "outputs": [
    {
     "name": "stdin",
     "output_type": "stream",
     "text": [
      "enter a string a\n"
     ]
    },
    {
     "name": "stdout",
     "output_type": "stream",
     "text": [
      "the string is not empty\n"
     ]
    }
   ],
   "source": [
    "#11\n",
    "s = input(\"enter a string\")\n",
    "if not s:\n",
    "    print(\"the string is empty\")\n",
    "else:\n",
    "    print(\"the string is not empty\")"
   ]
  },
  {
   "cell_type": "code",
   "execution_count": 13,
   "id": "04c01f3b-0f0b-4bf3-825c-dc8e0219ac4f",
   "metadata": {},
   "outputs": [
    {
     "name": "stdin",
     "output_type": "stream",
     "text": [
      "Enter the length of the first side:  5\n",
      "Enter the length of the second side:  3\n",
      "Enter the length of the third side:  5\n"
     ]
    },
    {
     "name": "stdout",
     "output_type": "stream",
     "text": [
      "The triangle is isosceles\n"
     ]
    }
   ],
   "source": [
    "#12\n",
    "side1 = int(input(\"Enter the length of the first side: \"))\n",
    "side2 = int(input(\"Enter the length of the second side: \"))\n",
    "side3 = int(input(\"Enter the length of the third side: \"))\n",
    "\n",
    "if side1 == side2 == side3:\n",
    "    triangle_type = \"equilateral\"\n",
    "elif side1 == side2 or side1 == side3 or side2 == side3:\n",
    "    triangle_type = \"isosceles\"\n",
    "else:\n",
    "    triangle_type = \"scalene\"\n",
    "\n",
    "print(\"The triangle is\", triangle_type)\n"
   ]
  },
  {
   "cell_type": "code",
   "execution_count": 17,
   "id": "f05a9352-dd68-404a-99a2-3d76de0c2046",
   "metadata": {},
   "outputs": [
    {
     "name": "stdin",
     "output_type": "stream",
     "text": [
      "Enter a number (1-7) to determine the day of the week:  3\n"
     ]
    },
    {
     "name": "stdout",
     "output_type": "stream",
     "text": [
      "The day of the week for number 3 is Wednesday\n"
     ]
    }
   ],
   "source": [
    "#13\n",
    "day_number = int(input(\"Enter a number (1-7) to determine the day of the week: \"))\n",
    "\n",
    "if day_number == 1:\n",
    "    day_name = \"Monday\"\n",
    "elif day_number == 2:\n",
    "    day_name = \"Tuesday\"\n",
    "elif day_number == 3:\n",
    "    day_name = \"Wednesday\"\n",
    "elif day_number == 4:\n",
    "    day_name = \"Thursday\"\n",
    "elif day_number == 5:\n",
    "    day_name = \"Friday\"\n",
    "elif day_number == 6:\n",
    "    day_name = \"Saturday\"\n",
    "elif day_number == 7:\n",
    "    day_name = \"Sunday\"\n",
    "else:\n",
    "    day_name = \"Invalid input. Please enter a number between 1 and 7.\"\n",
    "\n",
    "print(\"The day of the week for number\", day_number, \"is\", day_name)\n"
   ]
  },
  {
   "cell_type": "code",
   "execution_count": 18,
   "id": "e1663475-4096-4dba-b97f-79c5ebecd66b",
   "metadata": {},
   "outputs": [
    {
     "name": "stdin",
     "output_type": "stream",
     "text": [
      "Enter a year:  2014\n"
     ]
    },
    {
     "name": "stdout",
     "output_type": "stream",
     "text": [
      "2014 is not a leap year.\n"
     ]
    }
   ],
   "source": [
    "#14\n",
    "def is_leap_year(year):\n",
    "    if (year % 4 == 0 and year % 100 != 0) or (year % 400 == 0):\n",
    "        return True\n",
    "    else:\n",
    "        return False\n",
    "\n",
    "year = int(input(\"Enter a year: \"))\n",
    "\n",
    "if is_leap_year(year):\n",
    "    print(year, \"is a leap year.\")\n",
    "else:\n",
    "    print(year, \"is not a leap year.\")\n"
   ]
  },
  {
   "cell_type": "code",
   "execution_count": 23,
   "id": "e41d3b70-956f-403d-9b69-9f6ae4e2c026",
   "metadata": {},
   "outputs": [
    {
     "name": "stdin",
     "output_type": "stream",
     "text": [
      "Enter your age:  68\n"
     ]
    },
    {
     "name": "stdout",
     "output_type": "stream",
     "text": [
      "Congratulations! You are eligible for a senior citizen discount.\n"
     ]
    }
   ],
   "source": [
    "#16\n",
    "age = int(input(\"Enter your age: \"))\n",
    "\n",
    "if age >= 60:\n",
    "    print(\"Congratulations! You are eligible for a senior citizen discount.\")\n",
    "else:\n",
    "    print(\"Sorry, you are not eligible for a senior citizen discount.\")\n"
   ]
  },
  {
   "cell_type": "code",
   "execution_count": 25,
   "id": "8aa0b0c3-9921-4f23-b22a-c60b232b401b",
   "metadata": {},
   "outputs": [
    {
     "name": "stdin",
     "output_type": "stream",
     "text": [
      "Enter a character:  T\n"
     ]
    },
    {
     "name": "stdout",
     "output_type": "stream",
     "text": [
      "T is an uppercase character.\n"
     ]
    }
   ],
   "source": [
    "#17\n",
    "char = input(\"Enter a character: \")\n",
    "\n",
    "if char.isupper():\n",
    "    print(char, \"is an uppercase character.\")\n",
    "elif char.islower():\n",
    "    print(char, \"is a lowercase character.\")\n",
    "else:\n",
    "    print(char, \"is neither uppercase nor lowercase.\")\n"
   ]
  },
  {
   "cell_type": "code",
   "execution_count": 27,
   "id": "cd0536a5-9579-4af4-9e58-5d8f197efa4a",
   "metadata": {},
   "outputs": [
    {
     "name": "stdin",
     "output_type": "stream",
     "text": [
      "Enter the coefficient a:  1\n",
      "Enter the coefficient b:  1\n",
      "Enter the coefficient c:  1\n"
     ]
    },
    {
     "name": "stdout",
     "output_type": "stream",
     "text": [
      "The roots are complex.\n",
      "Root 1 = -0.5 + 0.8660254037844386i\n",
      "Root 2 = -0.5 - 0.8660254037844386i\n"
     ]
    }
   ],
   "source": [
    "#18\n",
    "import math\n",
    "\n",
    "a = float(input(\"Enter the coefficient a: \"))\n",
    "b = float(input(\"Enter the coefficient b: \"))\n",
    "c = float(input(\"Enter the coefficient c: \"))\n",
    "\n",
    "discriminant = b**2 - 4*a*c\n",
    "\n",
    "if discriminant > 0:\n",
    "    root1 = (-b + math.sqrt(discriminant)) / (2*a)\n",
    "    root2 = (-b - math.sqrt(discriminant)) / (2*a)\n",
    "    print(\"The roots are real and distinct.\")\n",
    "    print(\"Root 1 =\", root1)\n",
    "    print(\"Root 2 =\", root2)\n",
    "elif discriminant == 0:\n",
    "    root1 = -b / (2*a)\n",
    "    print(\"The root is real and equal.\")\n",
    "    print(\"Root =\", root1)\n",
    "else:\n",
    "    real_part = -b / (2*a)\n",
    "    imaginary_part = math.sqrt(abs(discriminant)) / (2*a)\n",
    "    print(\"The roots are complex.\")\n",
    "    print(f\"Root 1 = {real_part} + {imaginary_part}i\")\n",
    "    print(f\"Root 2 = {real_part} - {imaginary_part}i\")\n"
   ]
  },
  {
   "cell_type": "code",
   "execution_count": 28,
   "id": "57637cbd-9854-4485-9c4a-d5e1c6700667",
   "metadata": {},
   "outputs": [
    {
     "name": "stdin",
     "output_type": "stream",
     "text": [
      "Enter a year:  2100\n"
     ]
    },
    {
     "name": "stdout",
     "output_type": "stream",
     "text": [
      "2100 is a century year.\n"
     ]
    }
   ],
   "source": [
    "#19\n",
    "year = int(input(\"Enter a year: \"))\n",
    "\n",
    "if year % 100 == 0:\n",
    "    print(year, \"is a century year.\")\n",
    "else:\n",
    "    print(year, \"is not a century year.\")\n"
   ]
  },
  {
   "cell_type": "code",
   "execution_count": 29,
   "id": "572b081f-083e-4ef6-b69a-cfb627f289fc",
   "metadata": {},
   "outputs": [
    {
     "name": "stdin",
     "output_type": "stream",
     "text": [
      "enter a number 4\n"
     ]
    },
    {
     "name": "stdout",
     "output_type": "stream",
     "text": [
      "the number is a perfect square\n"
     ]
    }
   ],
   "source": [
    "#20\n",
    "n = int(input(\"enter a number\"))\n",
    "if n<0:\n",
    "    print(\"the number is not a perfect square\")\n",
    "else:\n",
    "    sqrt_number = int(n**0.5)\n",
    "    if sqrt_number**2 == n:\n",
    "        print(\"the number is a perfect square\")\n",
    "    else:\n",
    "        print(\"the number is not a perfect square\")"
   ]
  },
  {
   "cell_type": "code",
   "execution_count": 30,
   "id": "d31e27ab-63a4-4f99-9950-6eea32d32366",
   "metadata": {},
   "outputs": [
    {
     "name": "stdout",
     "output_type": "stream",
     "text": [
      "1\n",
      "2\n",
      "4\n",
      "5\n"
     ]
    },
    {
     "name": "stdin",
     "output_type": "stream",
     "text": [
      "Enter 'q' to quit:  t\n"
     ]
    },
    {
     "name": "stdout",
     "output_type": "stream",
     "text": [
      "You entered: t\n"
     ]
    },
    {
     "name": "stdin",
     "output_type": "stream",
     "text": [
      "Enter 'q' to quit:  q\n"
     ]
    }
   ],
   "source": [
    "#21\n",
    "# The continue statement is used to skip the current iteration of a loop and move\n",
    "# to the next iteration without executing the remaining code within the loop for the current iteration.\n",
    "#example\n",
    "for i in range(1, 6):\n",
    "    if i == 3:\n",
    "        continue  # Skip iteration 3\n",
    "    print(i)\n",
    "    \n",
    "# The break statement is used to exit a loop prematurely when a certain\n",
    "# condition is met, even if the loop's iteration count hasn't reached its natural end.\n",
    "#example\n",
    "while True:\n",
    "    user_input = input(\"Enter 'q' to quit: \")\n",
    "    if user_input == 'q':\n",
    "        break  # Exit the loop if 'q' is entered\n",
    "    print(\"You entered:\", user_input)\n"
   ]
  },
  {
   "cell_type": "code",
   "execution_count": 31,
   "id": "ca38c93a-c1c2-426d-a49c-36cf24be44e9",
   "metadata": {},
   "outputs": [
    {
     "name": "stdin",
     "output_type": "stream",
     "text": [
      "Enter your weight (in kilograms):  100\n",
      "Enter your height (in meters):  1.90\n"
     ]
    },
    {
     "name": "stdout",
     "output_type": "stream",
     "text": [
      "Your BMI is: 27.70083102493075\n",
      "BMI Category: Overweight\n"
     ]
    }
   ],
   "source": [
    "#22\n",
    "# Input weight (in kilograms) and height (in meters) from the user\n",
    "weight = float(input(\"Enter your weight (in kilograms): \"))\n",
    "height = float(input(\"Enter your height (in meters): \"))\n",
    "\n",
    "bmi = weight / (height ** 2)\n",
    "\n",
    "if bmi < 18.5:\n",
    "    category = \"Underweight\"\n",
    "elif 18.5 <= bmi < 24.9:\n",
    "    category = \"Normal Weight\"\n",
    "elif 24.9 <= bmi < 29.9:\n",
    "    category = \"Overweight\"\n",
    "else:\n",
    "    category = \"Obese\"\n",
    "\n",
    "print(\"Your BMI is:\", bmi)\n",
    "print(\"BMI Category:\", category)\n"
   ]
  },
  {
   "cell_type": "code",
   "execution_count": 32,
   "id": "0efb047e-4e34-4aac-ab94-ab56d3a6006a",
   "metadata": {},
   "outputs": [
    {
     "name": "stdout",
     "output_type": "stream",
     "text": [
      "Even numbers: [2, 4, 6, 8, 10]\n"
     ]
    }
   ],
   "source": [
    "#23\n",
    "# Define a list of numbers\n",
    "numbers = [1, 2, 3, 4, 5, 6, 7, 8, 9, 10]\n",
    "\n",
    "# Define a filtering function using a lambda function with if-else\n",
    "filtered_numbers = filter(lambda x: x % 2 == 0, numbers)\n",
    "\n",
    "# Convert the filtered result back to a list (if needed)\n",
    "filtered_numbers_list = list(filtered_numbers)\n",
    "\n",
    "# Display the filtered elements\n",
    "print(\"Even numbers:\", filtered_numbers_list)\n"
   ]
  },
  {
   "cell_type": "code",
   "execution_count": 33,
   "id": "05270ea2-805f-42bd-9a8f-cbe39578dd55",
   "metadata": {},
   "outputs": [
    {
     "name": "stdin",
     "output_type": "stream",
     "text": [
      "Enter a number:  47\n"
     ]
    },
    {
     "name": "stdout",
     "output_type": "stream",
     "text": [
      "47 is a prime number.\n"
     ]
    }
   ],
   "source": [
    "#24\n",
    "num = int(input(\"Enter a number: \"))\n",
    "\n",
    "if num <= 1:\n",
    "    is_prime = False\n",
    "else:\n",
    "    is_prime = True\n",
    "    for i in range(2, int(num**0.5) + 1):\n",
    "        if num % i == 0:\n",
    "            is_prime = False\n",
    "            break\n",
    "\n",
    "if is_prime:\n",
    "    print(num, \"is a prime number.\")\n",
    "else:\n",
    "    print(num, \"is not a prime number.\")\n"
   ]
  },
  {
   "cell_type": "code",
   "execution_count": 34,
   "id": "a5054ad2-8a1f-4c6d-9a63-5bf5c9a8f7fc",
   "metadata": {},
   "outputs": [],
   "source": [
    "# MAP"
   ]
  },
  {
   "cell_type": "code",
   "execution_count": 35,
   "id": "400a54fb-0b72-4bec-b261-281cac775855",
   "metadata": {},
   "outputs": [
    {
     "name": "stdout",
     "output_type": "stream",
     "text": [
      "Original numbers: [1, 2, 3, 4, 5]\n",
      "Squared numbers: [1, 4, 9, 16, 25]\n"
     ]
    }
   ],
   "source": [
    "#1\n",
    "numbers = [1, 2, 3, 4, 5]\n",
    "\n",
    "def square(x):\n",
    "    return x ** 2\n",
    "\n",
    "squared_numbers = map(square, numbers)\n",
    "\n",
    "squared_numbers_list = list(squared_numbers)\n",
    "\n",
    "print(\"Original numbers:\", numbers)\n",
    "print(\"Squared numbers:\", squared_numbers_list)\n"
   ]
  },
  {
   "cell_type": "code",
   "execution_count": 37,
   "id": "443cf4a9-f2c4-45e7-805d-f29382240e1e",
   "metadata": {},
   "outputs": [
    {
     "name": "stdout",
     "output_type": "stream",
     "text": [
      "[1, 4, 9, 16, 25]\n"
     ]
    }
   ],
   "source": [
    "#2\n",
    "lst = [1, 2, 3, 4, 5]\n",
    "squared_list = list(map(lambda x: x**2, lst))\n",
    "print(squared_list)"
   ]
  },
  {
   "cell_type": "code",
   "execution_count": 38,
   "id": "ab38e699-4cb0-4117-9cdd-16edabb49502",
   "metadata": {},
   "outputs": [],
   "source": [
    "#3\n",
    "# choose map() when you need to apply a function to each element \n",
    "# and list comprehensions when you want a concise and readable way to create a new list with transformations or filtering.\n",
    "# Consider readability and complexity when making your choice."
   ]
  },
  {
   "cell_type": "code",
   "execution_count": 44,
   "id": "0ca2d20c-9e83-4f24-87b5-f4e96a8e5d7e",
   "metadata": {},
   "outputs": [
    {
     "name": "stdout",
     "output_type": "stream",
     "text": [
      "['TEST', 'SAMPLE', 'PWSKILLS']\n"
     ]
    }
   ],
   "source": [
    "#4\n",
    "lst = [\"test\", \"sample\", \"pwskills\"]\n",
    "uppercase_lst = map(lambda s: s.upper(), lst)\n",
    "print(list(uppercase_lst))"
   ]
  },
  {
   "cell_type": "code",
   "execution_count": 46,
   "id": "6b03bf1d-d616-467c-8922-aa991d9f57b7",
   "metadata": {},
   "outputs": [
    {
     "name": "stdout",
     "output_type": "stream",
     "text": [
      "[4, 6, 8]\n"
     ]
    }
   ],
   "source": [
    "#5\n",
    "lst = [\"test\", \"sample\", \"pwskills\"]\n",
    "word_len_list = map(lambda s: len(s), lst)\n",
    "print(list(word_len_list))"
   ]
  },
  {
   "cell_type": "code",
   "execution_count": 47,
   "id": "fb0640fc-fc17-4dfa-b7c3-1db465bef2b2",
   "metadata": {},
   "outputs": [
    {
     "name": "stdout",
     "output_type": "stream",
     "text": [
      "List 1: [1, 2, 3, 4, 5]\n",
      "List 2: [10, 20, 30, 40, 50]\n",
      "Result: [11, 22, 33, 44, 55]\n"
     ]
    }
   ],
   "source": [
    "#6\n",
    "list1 = [1, 2, 3, 4, 5]\n",
    "list2 = [10, 20, 30, 40, 50]\n",
    "\n",
    "def add_lists(x, y):\n",
    "    return x + y\n",
    "\n",
    "result = map(add_lists, list1, list2)\n",
    "\n",
    "result_list = list(result)\n",
    "\n",
    "print(\"List 1:\", list1)\n",
    "print(\"List 2:\", list2)\n",
    "print(\"Result:\", result_list)\n"
   ]
  },
  {
   "cell_type": "code",
   "execution_count": 48,
   "id": "98599947-a2a1-4c49-9f66-f182c02e9d0e",
   "metadata": {},
   "outputs": [
    {
     "name": "stdout",
     "output_type": "stream",
     "text": [
      "Celsius Temperatures: [25.5, 30.0, 15.3, 18.9, 10.7]\n",
      "Fahrenheit Temperatures: [77.9, 86.0, 59.540000000000006, 66.02, 51.26]\n"
     ]
    }
   ],
   "source": [
    "#7\n",
    "celsius_temperatures = [25.5, 30.0, 15.3, 18.9, 10.7]\n",
    "\n",
    "def celsius_to_fahrenheit(celsius):\n",
    "    return (celsius * 9/5) + 32\n",
    "\n",
    "fahrenheit_temperatures = map(celsius_to_fahrenheit, celsius_temperatures)\n",
    "\n",
    "fahrenheit_temperatures_list = list(fahrenheit_temperatures)\n",
    "\n",
    "print(\"Celsius Temperatures:\", celsius_temperatures)\n",
    "print(\"Fahrenheit Temperatures:\", fahrenheit_temperatures_list)\n"
   ]
  },
  {
   "cell_type": "code",
   "execution_count": 49,
   "id": "cd872914-7162-4a81-be47-9a5ddf1159e3",
   "metadata": {},
   "outputs": [
    {
     "name": "stdout",
     "output_type": "stream",
     "text": [
      "Original Numbers: [3.6, 1.8, 2.4, 5.9, 7.2]\n",
      "Rounded Numbers: [4, 2, 2, 6, 7]\n"
     ]
    }
   ],
   "source": [
    "#8\n",
    "float_numbers = [3.6, 1.8, 2.4, 5.9, 7.2]\n",
    "\n",
    "rounded_numbers = map(round, float_numbers)\n",
    "\n",
    "rounded_numbers_list = list(rounded_numbers)\n",
    "\n",
    "print(\"Original Numbers:\", float_numbers)\n",
    "print(\"Rounded Numbers:\", rounded_numbers_list)\n"
   ]
  },
  {
   "cell_type": "code",
   "execution_count": 50,
   "id": "2e6112b5-b556-448e-a3e3-11ae36f4b36d",
   "metadata": {},
   "outputs": [],
   "source": [
    "# REDUCE"
   ]
  },
  {
   "cell_type": "code",
   "execution_count": 3,
   "id": "6327e5f3-b171-41fc-91ba-001e0e45a201",
   "metadata": {},
   "outputs": [
    {
     "name": "stdout",
     "output_type": "stream",
     "text": [
      "15\n"
     ]
    }
   ],
   "source": [
    "#1\n",
    "# The reduce() function in Python is part of the functools module (Python 3 and later) \n",
    "# and is used for aggregating the elements\n",
    "# of an iterable, typically by applying a specified function \n",
    "# cumulatively to the items of the iterable. \n",
    "#example\n",
    "from functools import reduce\n",
    "numbers = [1, 2, 3, 4, 5]\n",
    "sum_of_numbers = reduce(lambda x, y: x+y, numbers)\n",
    "print(sum_of_numbers)"
   ]
  },
  {
   "cell_type": "code",
   "execution_count": 4,
   "id": "0d71a1eb-47c4-4d23-a9b8-bde52a6d9146",
   "metadata": {},
   "outputs": [
    {
     "name": "stdout",
     "output_type": "stream",
     "text": [
      "120\n"
     ]
    }
   ],
   "source": [
    "#2\n",
    "from functools import reduce\n",
    "numbers = [1, 2, 3, 4, 5]\n",
    "product = reduce(lambda x, y: x*y, numbers)\n",
    "print(product)"
   ]
  },
  {
   "cell_type": "code",
   "execution_count": 8,
   "id": "53a76eae-615b-41eb-bf57-16fb30c78fd0",
   "metadata": {},
   "outputs": [
    {
     "name": "stdout",
     "output_type": "stream",
     "text": [
      "25\n"
     ]
    }
   ],
   "source": [
    "#3\n",
    "from functools import reduce\n",
    "lst = [3, 7, 9, 17, 19, 24, 25, 21]\n",
    "\n",
    "max_number = reduce(lambda x, y: x if x>y else y, lst)\n",
    "print(max_number)"
   ]
  },
  {
   "cell_type": "code",
   "execution_count": 12,
   "id": "d16eed54-3927-489d-a843-835564e33953",
   "metadata": {},
   "outputs": [
    {
     "name": "stdout",
     "output_type": "stream",
     "text": [
      "this is a sample sentence.\n"
     ]
    }
   ],
   "source": [
    "#4\n",
    "from functools import reduce\n",
    "list1 = [\"this \", \"is \", \"a \", \"sample \", \"sentence.\"]\n",
    "concatenated_list = reduce(lambda x, y: x+y, list1)\n",
    "print(concatenated_list)"
   ]
  },
  {
   "cell_type": "code",
   "execution_count": 16,
   "id": "ff6d219b-bfd2-4467-ae3c-12d6930f0f85",
   "metadata": {},
   "outputs": [
    {
     "name": "stdin",
     "output_type": "stream",
     "text": [
      "Enter a number:  5\n"
     ]
    },
    {
     "name": "stdout",
     "output_type": "stream",
     "text": [
      "5! = 120\n"
     ]
    }
   ],
   "source": [
    "#5\n",
    "from functools import reduce\n",
    "\n",
    "n = int(input(\"Enter a number: \"))\n",
    "\n",
    "result = reduce(lambda x, y: x * y, range(1, n + 1), 1)\n",
    "\n",
    "print(f\"{n}! =\", result)\n"
   ]
  },
  {
   "cell_type": "code",
   "execution_count": 17,
   "id": "f1bea87e-4519-4b7c-9fe1-105bd169be39",
   "metadata": {},
   "outputs": [
    {
     "name": "stdout",
     "output_type": "stream",
     "text": [
      "List of Numbers: [48, 60, 72, 96]\n",
      "GCD: 12\n"
     ]
    }
   ],
   "source": [
    "#6\n",
    "from functools import reduce\n",
    "import math\n",
    "\n",
    "numbers = [48, 60, 72, 96]\n",
    "\n",
    "gcd_result = reduce(math.gcd, numbers)\n",
    "\n",
    "print(\"List of Numbers:\", numbers)\n",
    "print(\"GCD:\", gcd_result)\n"
   ]
  },
  {
   "cell_type": "code",
   "execution_count": 21,
   "id": "6f29c1ba-2f33-4fe8-b41b-f5c86d522d3d",
   "metadata": {},
   "outputs": [
    {
     "name": "stdout",
     "output_type": "stream",
     "text": [
      "15\n"
     ]
    }
   ],
   "source": [
    "#7\n",
    "from functools import reduce\n",
    "n = 12345\n",
    "digits = [int(digit) for digit in str(n)]\n",
    "sum_of_digits = reduce(lambda x, y: x+y, digits)\n",
    "print(sum_of_digits)"
   ]
  },
  {
   "cell_type": "code",
   "execution_count": 22,
   "id": "2fc6ef38-9205-48a7-af3a-c45c91aaa795",
   "metadata": {},
   "outputs": [],
   "source": [
    "# FILTER"
   ]
  },
  {
   "cell_type": "code",
   "execution_count": 27,
   "id": "36a9fe33-cd09-4c9d-ac6a-2ea1d6a9f653",
   "metadata": {},
   "outputs": [
    {
     "name": "stdout",
     "output_type": "stream",
     "text": [
      "Original Numbers: [1, 2, 3, 4, 5, 6, 7, 8, 9, 10]\n",
      "Even Numbers: [2, 4, 6, 8, 10]\n"
     ]
    }
   ],
   "source": [
    "#1 The filter() function in Python is used to filter elements from an iterable \n",
    "# (e.g., a list, tuple, or other iterable objects)based on a given function or condition. \n",
    "# Its purpose is to create a new iterable containing only the elements that satisfy a specified condition\n",
    "#example\n",
    "numbers = [1, 2, 3, 4, 5, 6, 7, 8, 9, 10]\n",
    "\n",
    "def is_even(x):\n",
    "    return x % 2 == 0\n",
    "\n",
    "even_numbers = filter(is_even, numbers)\n",
    "\n",
    "even_numbers_list = list(even_numbers)\n",
    "\n",
    "print(\"Original Numbers:\", numbers)\n",
    "print(\"Even Numbers:\", even_numbers_list)\n"
   ]
  },
  {
   "cell_type": "code",
   "execution_count": 28,
   "id": "eb1b8541-11ac-4c9d-ab51-24f92026a817",
   "metadata": {},
   "outputs": [
    {
     "name": "stdout",
     "output_type": "stream",
     "text": [
      "Original Numbers: [1, 2, 3, 4, 5, 6, 7, 8, 9, 10]\n",
      "Even Numbers: [2, 4, 6, 8, 10]\n"
     ]
    }
   ],
   "source": [
    "#2\n",
    "numbers = [1, 2, 3, 4, 5, 6, 7, 8, 9, 10]\n",
    "\n",
    "def is_even(x):\n",
    "    return x % 2 == 0\n",
    "\n",
    "even_numbers = filter(is_even, numbers)\n",
    "\n",
    "even_numbers_list = list(even_numbers)\n",
    "\n",
    "print(\"Original Numbers:\", numbers)\n",
    "print(\"Even Numbers:\", even_numbers_list)\n"
   ]
  },
  {
   "cell_type": "code",
   "execution_count": 31,
   "id": "3cac89f9-4b7f-4070-94fc-e04428e57483",
   "metadata": {},
   "outputs": [
    {
     "name": "stdout",
     "output_type": "stream",
     "text": [
      "['Ram', 'Rohan', 'Rakesh']\n"
     ]
    }
   ],
   "source": [
    "#3\n",
    "lst = [\"Ram\", \"Rohan\", \"Rakesh\", \"Shyam\", \"Abhay\", \"Hitesh\"]\n",
    "filtered_list = filter(lambda s: s.startswith(\"R\"), lst)\n",
    "print(list(filtered_list))"
   ]
  },
  {
   "cell_type": "code",
   "execution_count": 32,
   "id": "4413eb0e-48e7-4886-a7ea-9249f9e058c4",
   "metadata": {},
   "outputs": [
    {
     "name": "stdout",
     "output_type": "stream",
     "text": [
      "Original Numbers: [2, 3, 4, 5, 6, 7, 8, 9, 10]\n",
      "Prime Numbers: [2, 3, 5, 7]\n"
     ]
    }
   ],
   "source": [
    "#4\n",
    "numbers = [2, 3, 4, 5, 6, 7, 8, 9, 10]\n",
    "\n",
    "def is_prime(n):\n",
    "    if n <= 1:\n",
    "        return False\n",
    "    for i in range(2, int(n**0.5) + 1):\n",
    "        if n % i == 0:\n",
    "            return False\n",
    "    return True\n",
    "\n",
    "prime_numbers = filter(is_prime, numbers)\n",
    "\n",
    "prime_numbers_list = list(prime_numbers)\n",
    "\n",
    "print(\"Original Numbers:\", numbers)\n",
    "print(\"Prime Numbers:\", prime_numbers_list)\n"
   ]
  },
  {
   "cell_type": "code",
   "execution_count": 34,
   "id": "438ace83-ff2e-4ab8-9fee-81cd0ee61fdd",
   "metadata": {},
   "outputs": [
    {
     "name": "stdout",
     "output_type": "stream",
     "text": [
      "Filtered Values (None removed): [1, 2, 3, 4]\n"
     ]
    }
   ],
   "source": [
    "#5\n",
    "values = [1, None, 2, None, 3, 4, None]\n",
    "\n",
    "filtered_values = filter(lambda x: x is not None, values)\n",
    "filtered_values_list = list(filtered_values)\n",
    "print(\"Filtered Values (None removed):\", filtered_values_list)\n"
   ]
  },
  {
   "cell_type": "code",
   "execution_count": 36,
   "id": "ad801d17-14c5-49a3-83cc-a6a4e0e02ddc",
   "metadata": {},
   "outputs": [
    {
     "name": "stdout",
     "output_type": "stream",
     "text": [
      "['apple', 'banana', 'cherry']\n"
     ]
    }
   ],
   "source": [
    "#6\n",
    "words = [\"apple\", \"banana\", \"cherry\", \"date\", \"fig\"]\n",
    "min_length = 5\n",
    "\n",
    "long_words = filter(lambda word: len(word) >= min_length, words)\n",
    "long_words_list = list(long_words)\n",
    "print(long_words_list)\n"
   ]
  },
  {
   "cell_type": "code",
   "execution_count": 37,
   "id": "e7008af8-5d95-4eff-9713-922aa878a52f",
   "metadata": {},
   "outputs": [],
   "source": [
    "# RECURSION"
   ]
  },
  {
   "cell_type": "code",
   "execution_count": 38,
   "id": "878dae31-b05e-4bdf-bd1d-cfc161aa4cd3",
   "metadata": {},
   "outputs": [],
   "source": [
    "#1\n",
    "\n",
    "# Recursion is a programming technique where a function calls itself to solve a problem or perform a task.\n",
    "# In recursive functions, the problem is divided into smaller subproblems that are similar in nature to the original problem.\n",
    "# Each recursive call works on a smaller subproblem until a base case is reached, which provides a termination condition to stop the recursion.\n",
    "# Recursion often leads to elegant and concise solutions for problems that have a recursive structure.\n",
    "# Examples of problems that can be solved using recursion include calculating factorial, computing Fibonacci numbers, and traversing tree-like data structures like binary trees."
   ]
  },
  {
   "cell_type": "code",
   "execution_count": 39,
   "id": "c3f11ec4-cedb-407f-b923-143b17a9de7d",
   "metadata": {},
   "outputs": [
    {
     "name": "stdin",
     "output_type": "stream",
     "text": [
      "enter a number to calculate it's factorial 5\n"
     ]
    },
    {
     "name": "stdout",
     "output_type": "stream",
     "text": [
      "120\n"
     ]
    }
   ],
   "source": [
    "#2\n",
    "n = int(input(\"enter a number to calculate it's factorial\"))\n",
    "\n",
    "def fac(n):\n",
    "    if n <= 1:\n",
    "        return 1\n",
    "    return fac(n-1)*n\n",
    "print(fac(n))"
   ]
  },
  {
   "cell_type": "code",
   "execution_count": 41,
   "id": "a304d87f-deb0-443b-b4a3-978faee78916",
   "metadata": {},
   "outputs": [
    {
     "name": "stdin",
     "output_type": "stream",
     "text": [
      "enter a number to find it's fibonacci number 6\n"
     ]
    },
    {
     "name": "stdout",
     "output_type": "stream",
     "text": [
      "8\n"
     ]
    }
   ],
   "source": [
    "#3\n",
    "n = int(input(\"enter a number to find it's fibonacci number\"))\n",
    "\n",
    "def fib(n):\n",
    "    if n==0 or n==1:\n",
    "        return n\n",
    "    return fib(n-1) + fib(n-2)\n",
    "\n",
    "print(fib(n))\n",
    "    "
   ]
  },
  {
   "cell_type": "code",
   "execution_count": 42,
   "id": "0ab3f398-cfbb-4012-9948-917094f6eaea",
   "metadata": {},
   "outputs": [
    {
     "name": "stdout",
     "output_type": "stream",
     "text": [
      "Sum of Elements: 15\n"
     ]
    }
   ],
   "source": [
    "#4\n",
    "def recursive_sum(lst):\n",
    "    if not lst:\n",
    "        return 0\n",
    "    else:\n",
    "        return lst[0] + recursive_sum(lst[1:])\n",
    "\n",
    "numbers = [1, 2, 3, 4, 5]\n",
    "result = recursive_sum(numbers)\n",
    "print(\"Sum of Elements:\", result)\n"
   ]
  },
  {
   "cell_type": "code",
   "execution_count": 43,
   "id": "c0b8bc73-2da1-4c5d-a610-18565650f095",
   "metadata": {},
   "outputs": [],
   "source": [
    "#5\n",
    "# to prevent infinite recursion:\n",
    "# 1) define base case\n",
    "# 2) update parameters\n",
    "# 3) test with samll inputs\n",
    "# 4) debugging\n",
    "# 5) test and validate"
   ]
  },
  {
   "cell_type": "code",
   "execution_count": 44,
   "id": "3f9388dd-84f2-4173-b73b-a938205c99d6",
   "metadata": {},
   "outputs": [
    {
     "name": "stdout",
     "output_type": "stream",
     "text": [
      "GCD of 48 and 18 is 6\n"
     ]
    }
   ],
   "source": [
    "#6\n",
    "def euclidean_gcd(a, b):\n",
    "    if b == 0:\n",
    "        return a\n",
    "    else:\n",
    "        return euclidean_gcd(b, a % b)\n",
    "\n",
    "num1 = 48\n",
    "num2 = 18\n",
    "result = euclidean_gcd(num1, num2)\n",
    "print(f\"GCD of {num1} and {num2} is {result}\")\n"
   ]
  },
  {
   "cell_type": "code",
   "execution_count": 49,
   "id": "deb10427-f15e-4176-8785-7db658731a44",
   "metadata": {},
   "outputs": [
    {
     "name": "stdout",
     "output_type": "stream",
     "text": [
      "tset\n"
     ]
    }
   ],
   "source": [
    "#7\n",
    "def reverse_string(s):\n",
    "    if len(s) == 0:\n",
    "        return s\n",
    "    return reverse_string(s[1:]) + s[0]\n",
    "print(reverse_string(\"test\"))"
   ]
  },
  {
   "cell_type": "code",
   "execution_count": 50,
   "id": "70f8e89a-5cfc-48ef-9417-4b78f625634c",
   "metadata": {},
   "outputs": [
    {
     "name": "stdout",
     "output_type": "stream",
     "text": [
      "16\n"
     ]
    }
   ],
   "source": [
    "#8\n",
    "def power(x, n):\n",
    "    if n == 0:\n",
    "        return 1\n",
    "    return x * power(x, n-1)\n",
    "print(power(2, 4))"
   ]
  },
  {
   "cell_type": "code",
   "execution_count": 51,
   "id": "6039a33c-ad0e-4f0d-83a4-da7ba9e7f790",
   "metadata": {},
   "outputs": [
    {
     "name": "stdout",
     "output_type": "stream",
     "text": [
      "Permutations of abc : ['abc', 'acb', 'bac', 'bca', 'cab', 'cba']\n"
     ]
    }
   ],
   "source": [
    "#9\n",
    "def get_permutations(s):\n",
    "    if len(s) <= 1:\n",
    "        return [s]\n",
    "\n",
    "    permutations = []\n",
    "\n",
    "    for i, char in enumerate(s):\n",
    "        remaining_chars = s[:i] + s[i+1:]\n",
    "        \n",
    "        sub_permutations = get_permutations(remaining_chars)\n",
    "        \n",
    "        for perm in sub_permutations:\n",
    "            permutations.append(char + perm)\n",
    "\n",
    "    return permutations\n",
    "\n",
    "input_string = \"abc\"\n",
    "permutations = get_permutations(input_string)\n",
    "print(\"Permutations of\", input_string, \":\", permutations)\n"
   ]
  },
  {
   "cell_type": "code",
   "execution_count": 53,
   "id": "eac0b3f0-30af-4339-99e3-dc1b49fc5b86",
   "metadata": {},
   "outputs": [
    {
     "name": "stdout",
     "output_type": "stream",
     "text": [
      "abccba is a palindrome.\n"
     ]
    }
   ],
   "source": [
    "#10\n",
    "def is_palindrome(s):\n",
    "    if len(s) <= 1:\n",
    "        return True\n",
    "    \n",
    "    if s[0] == s[-1]:\n",
    "        return is_palindrome(s[1:-1])\n",
    "    else:\n",
    "        return False\n",
    "\n",
    "input_string = \"abccba\"\n",
    "result = is_palindrome(input_string)\n",
    "if result:\n",
    "    print(f\"{input_string} is a palindrome.\")\n",
    "else:\n",
    "    print(f\"{input_string} is not a palindrome.\")\n"
   ]
  },
  {
   "cell_type": "code",
   "execution_count": 54,
   "id": "fbf7cc1a-386c-443d-9e96-9a2eee9d75ac",
   "metadata": {},
   "outputs": [
    {
     "name": "stdout",
     "output_type": "stream",
     "text": [
      "Combinations: [[1, 2, 3], [1, 2], [1, 3], [1], [2, 3], [2], [3], []]\n"
     ]
    }
   ],
   "source": [
    "#11\n",
    "def generate_combinations(elements):\n",
    "    if len(elements) == 0:\n",
    "        return [[]] \n",
    "    \n",
    "    first_element = elements[0]\n",
    "    rest_elements = elements[1:]\n",
    "    \n",
    "    combinations_without_first = generate_combinations(rest_elements)\n",
    "    \n",
    "    combinations_with_first = []\n",
    "    for combination in combinations_without_first:\n",
    "        combinations_with_first.append([first_element] + combination)\n",
    "    \n",
    "    all_combinations = combinations_with_first + combinations_without_first\n",
    "    \n",
    "    return all_combinations\n",
    "\n",
    "input_elements = [1, 2, 3]\n",
    "combinations = generate_combinations(input_elements)\n",
    "print(\"Combinations:\", combinations)\n"
   ]
  },
  {
   "cell_type": "code",
   "execution_count": 55,
   "id": "411b6ac4-8000-497d-90ec-9104faf7d5f3",
   "metadata": {},
   "outputs": [],
   "source": [
    "# BASICS OF FUNCTIONS"
   ]
  },
  {
   "cell_type": "raw",
   "id": "e1e57aee-efe3-4480-b4f7-ea4b2eb983b6",
   "metadata": {},
   "source": [
    "#1\n",
    "In Python, a function is a reusable block of code that performs a specific task or a set of tasks.\n",
    "Functions are used to modularize code, improve code organization, and promote reusability. \n",
    "They allow you to encapsulate a sequence of statements into a single unit, making your \n",
    "code more readable and maintainable. Functions are fundamental in Python programming\n",
    "and help break down complex problems into smaller, manageable parts."
   ]
  },
  {
   "cell_type": "code",
   "execution_count": 58,
   "id": "93bc9653-2634-48b1-a8b1-a4f40aa5d73f",
   "metadata": {},
   "outputs": [
    {
     "name": "stdout",
     "output_type": "stream",
     "text": [
      "Hello, Sudhanshu sir!\n"
     ]
    }
   ],
   "source": [
    "#2\n",
    "#function creation\n",
    "def greet(name):\n",
    "    print(f\"Hello, {name}!\")\n",
    "\n",
    "# Function call\n",
    "greet(\"Sudhanshu sir\")"
   ]
  },
  {
   "cell_type": "raw",
   "id": "bd7233dd-5b99-450d-8b53-99b53faf8a0e",
   "metadata": {},
   "source": [
    "#3\n",
    "Function Definition: This is where you specify what a function does, including its name, parameters, and the code that should execute when the function is called. In Python, function definitions start with def followed by the function name and a colon. For example, def greet(name): is a function definition.\n",
    "\n",
    "Function Call: This is when you actually invoke or use the function you've defined. It's where you provide values for the parameters, and the code within the function definition is executed. In Python, you call a function by using its name followed by parentheses with the arguments or values to be passed to the function. For example, greet(\"Alice\") is a function call."
   ]
  },
  {
   "cell_type": "code",
   "execution_count": 60,
   "id": "d764a8bf-28ab-45eb-94a9-07312b458a11",
   "metadata": {},
   "outputs": [
    {
     "name": "stdout",
     "output_type": "stream",
     "text": [
      "Sum: 12\n"
     ]
    }
   ],
   "source": [
    "#4\n",
    "def add_numbers(a, b):\n",
    "    return a + b\n",
    "\n",
    "# Function call\n",
    "result = add_numbers(5, 7)\n",
    "print(\"Sum:\", result)"
   ]
  },
  {
   "cell_type": "raw",
   "id": "501d2e95-c7d4-4397-be90-09cc31dd91f5",
   "metadata": {},
   "source": [
    "#5\n",
    "A function signature in Python typically includes the following information:\n",
    "\n",
    "Function Name: The name of the function, which is used to call it.\n",
    "\n",
    "Parameters: The list of input parameters (arguments) the function accepts. Parameters are enclosed in parentheses after the function name.\n",
    "\n",
    "Return Type: The data type of the value that the function returns (if it returns a value). It's specified using the -> symbol followed by the return type in more recent Python versions (Python 3.5+).\n",
    "\n",
    "Docstring (Optional): A docstring enclosed in triple-quotes that describes the purpose and usage of the function. It's optional but considered good practice for documenting functions."
   ]
  },
  {
   "cell_type": "code",
   "execution_count": 61,
   "id": "115971dd-4447-4cbf-af11-d92a7fb54e62",
   "metadata": {},
   "outputs": [
    {
     "name": "stdout",
     "output_type": "stream",
     "text": [
      "20\n"
     ]
    }
   ],
   "source": [
    "#6\n",
    "def multiply(a, b):\n",
    "    \"\"\"This function multiplies two numbers and returns the result.\"\"\"\n",
    "    return a * b\n",
    "print(multiply(5, 4))"
   ]
  },
  {
   "cell_type": "code",
   "execution_count": 62,
   "id": "12fc9c5e-a2af-4e8e-ada7-5c578bf6998e",
   "metadata": {},
   "outputs": [],
   "source": [
    "# Function Parameters and Arguments:"
   ]
  },
  {
   "cell_type": "raw",
   "id": "4e98a282-f07b-486a-9fc6-c01a6bc3c4a0",
   "metadata": {},
   "source": [
    "#1\n",
    "Formal Parameters: Formal parameters are placeholders in the function definition that represent the values or data that the function expects to receive when it's called. They are defined in the function's parameter list and serve as variables within the function's scope.\n",
    "\n",
    "Actual Arguments: Actual arguments, also known as arguments or arguments values, are the values or data that are passed to a function when it is called. These values are provided in the function call and are used to initialize the formal parameters defined in the function's parameter list."
   ]
  },
  {
   "cell_type": "code",
   "execution_count": 63,
   "id": "e838a786-8ddc-4db8-8cdd-e38cd6b61625",
   "metadata": {},
   "outputs": [
    {
     "name": "stdout",
     "output_type": "stream",
     "text": [
      "Hello, Guest!\n",
      "Hello, Alice!\n"
     ]
    }
   ],
   "source": [
    "#2\n",
    "def greet(name=\"Guest\"):\n",
    "    print(f\"Hello, {name}!\")\n",
    "\n",
    "greet()\n",
    "\n",
    "greet(\"Alice\")\n"
   ]
  },
  {
   "cell_type": "code",
   "execution_count": 64,
   "id": "d0305e48-a208-4a20-ac92-48e463937a71",
   "metadata": {},
   "outputs": [
    {
     "name": "stdout",
     "output_type": "stream",
     "text": [
      "Alice is 30 years old and lives in New York.\n"
     ]
    }
   ],
   "source": [
    "#3\n",
    "def describe_person(name, age, city):\n",
    "    \"\"\"This function describes a person with name, age, and city.\"\"\"\n",
    "    print(f\"{name} is {age} years old and lives in {city}.\")\n",
    "\n",
    "describe_person(name=\"Alice\", age=30, city=\"New York\")\n"
   ]
  },
  {
   "cell_type": "code",
   "execution_count": 65,
   "id": "f136465a-eb93-4bec-b4fc-67c030112bb9",
   "metadata": {},
   "outputs": [
    {
     "name": "stdout",
     "output_type": "stream",
     "text": [
      "Sum 1: 6\n",
      "Sum 2: 150\n"
     ]
    }
   ],
   "source": [
    "#4\n",
    "def calculate_sum(*args):\n",
    "    \"\"\"This function calculates the sum of a variable number of arguments.\"\"\"\n",
    "    total = 0\n",
    "    for num in args:\n",
    "        total += num\n",
    "    return total\n",
    "\n",
    "result1 = calculate_sum(1, 2, 3)\n",
    "result2 = calculate_sum(10, 20, 30, 40, 50)\n",
    "\n",
    "print(\"Sum 1:\", result1)\n",
    "print(\"Sum 2:\", result2)\n"
   ]
  },
  {
   "cell_type": "raw",
   "id": "1f9b2439-ce22-473a-b242-1b60b2ea7835",
   "metadata": {},
   "source": [
    "#5\n",
    "*args: The *args syntax in a function parameter list allows you to pass a variable number of non-keyword (positional) arguments to a function. It collects these arguments into a tuple, allowing you to work with them as a collection.\n",
    "\n",
    "**kwargs: The **kwargs syntax allows you to pass a variable number of keyword arguments (keyword-value pairs) to a function. It collects these arguments into a dictionary, providing named access to the values."
   ]
  },
  {
   "cell_type": "code",
   "execution_count": 66,
   "id": "7c059093-9b86-4e52-a409-1a20f764713c",
   "metadata": {},
   "outputs": [],
   "source": [
    "# Return Values and Scoping:"
   ]
  },
  {
   "cell_type": "code",
   "execution_count": 67,
   "id": "d00b39d4-115d-4ee9-b21a-31844506417f",
   "metadata": {},
   "outputs": [
    {
     "name": "stdout",
     "output_type": "stream",
     "text": [
      "Sum: 12\n",
      "Hello, Alice!\n"
     ]
    }
   ],
   "source": [
    "#1\n",
    "def add_numbers(a, b):\n",
    "    \"\"\"This function adds two numbers and returns the result.\"\"\"\n",
    "    result = a + b\n",
    "    return result\n",
    "\n",
    "sum_result = add_numbers(5, 7)\n",
    "print(\"Sum:\", sum_result)\n",
    "\n",
    "def greet(name):\n",
    "    \"\"\"This function greets a person and returns a greeting message.\"\"\"\n",
    "    return f\"Hello, {name}!\"\n",
    "\n",
    "greeting = greet(\"Alice\")\n",
    "print(greeting)\n"
   ]
  },
  {
   "cell_type": "raw",
   "id": "8bd12682-6f4d-435e-9ea4-b98d9990714c",
   "metadata": {},
   "source": [
    "#2\n",
    "Local Variables: Local variables are variables defined within a function. They have local scope, meaning they are only accessible within the function where they are defined. Once the function execution is complete, the local variables are destroyed, and their values are not accessible outside the function.\n",
    "\n",
    "Global Variables: Global variables are variables defined outside of any function or in the global scope. They can be accessed and modified from any part of the code, including within functions. However, if you want to modify a global variable within a function, you need to use the global keyword to indicate that you are working with the global variable, not creating a new local one."
   ]
  },
  {
   "cell_type": "code",
   "execution_count": 68,
   "id": "38be45ed-94a3-474b-9a48-9f26efb4c983",
   "metadata": {},
   "outputs": [
    {
     "name": "stdout",
     "output_type": "stream",
     "text": [
      "Global variable before function: 10\n",
      "Global variable after function: 15\n"
     ]
    }
   ],
   "source": [
    "#3\n",
    "global_variable = 10\n",
    "\n",
    "def modify_global():\n",
    "    \"\"\"This function modifies the global variable.\"\"\"\n",
    "    global global_variable\n",
    "    global_variable += 5\n",
    "\n",
    "print(\"Global variable before function:\", global_variable)\n",
    "modify_global()\n",
    "print(\"Global variable after function:\", global_variable)\n"
   ]
  },
  {
   "cell_type": "code",
   "execution_count": 70,
   "id": "0e391ea4-c4c7-431b-b973-589471a885a7",
   "metadata": {},
   "outputs": [
    {
     "name": "stdout",
     "output_type": "stream",
     "text": [
      "120\n"
     ]
    }
   ],
   "source": [
    "#4\n",
    "def factorial(n):\n",
    "    \"\"\"This function calculates the factorial of a number.\"\"\"\n",
    "    if n == 0:\n",
    "        return 1\n",
    "    else:\n",
    "        return n * factorial(n - 1)\n",
    "print(factorial(5))"
   ]
  },
  {
   "cell_type": "raw",
   "id": "41b8b709-f4bd-4b02-a0fc-27e9d363b8de",
   "metadata": {},
   "source": [
    "#5\n",
    "To access variables defined outside a function from within the function, you can use the variables directly. Python allows functions to access global variables without any special declaration, but if you want to modify a global variable from within a function, you need to use the global keyword to indicate that you are working with the global variable, not creating a new local one."
   ]
  },
  {
   "cell_type": "raw",
   "id": "16953d56-11ef-40cc-ac4a-4402371223f5",
   "metadata": {},
   "source": [
    "# lambda functions and higher order functions"
   ]
  },
  {
   "cell_type": "raw",
   "id": "76d69337-1053-47b8-8133-9afa49a513bf",
   "metadata": {},
   "source": [
    "#1\n",
    "Lambda functions, also known as anonymous functions or lambda expressions, are small, inline functions in Python that can have any number of parameters but can only have one expression. They are typically used for short, simple operations where defining a full function using the def keyword would be more verbose.\n",
    "\n",
    "Lambda functions are commonly used in scenarios like:\n",
    "\n",
    "As arguments to higher-order functions (e.g., map, filter, sorted) when you need a simple function for a specific operation.\n",
    "When you want to define a function quickly without giving it a formal name."
   ]
  },
  {
   "cell_type": "code",
   "execution_count": 71,
   "id": "7d88edf6-4709-434a-9f50-edcc96dd4f09",
   "metadata": {},
   "outputs": [
    {
     "name": "stdout",
     "output_type": "stream",
     "text": [
      "[(4, 1), (3, 2), (1, 5), (2, 8)]\n"
     ]
    }
   ],
   "source": [
    "#2\n",
    "data = [(1, 5), (3, 2), (2, 8), (4, 1)]\n",
    "\n",
    "sorted_data = sorted(data, key=lambda x: x[1])\n",
    "\n",
    "print(sorted_data)\n"
   ]
  },
  {
   "cell_type": "code",
   "execution_count": 72,
   "id": "55d88c95-2bce-4c35-824d-7911de870418",
   "metadata": {},
   "outputs": [
    {
     "name": "stdout",
     "output_type": "stream",
     "text": [
      "Original numbers: [1, 2, 3, 4, 5]\n",
      "Squared numbers: [1, 4, 9, 16, 25]\n"
     ]
    }
   ],
   "source": [
    "#3\n",
    "def square(x):\n",
    "    \"\"\"This function squares a number.\"\"\"\n",
    "    return x ** 2\n",
    "\n",
    "numbers = [1, 2, 3, 4, 5]\n",
    "\n",
    "# Use the map function to apply the square function to each element\n",
    "squared_numbers = list(map(square, numbers))\n",
    "\n",
    "print(\"Original numbers:\", numbers)\n",
    "print(\"Squared numbers:\", squared_numbers)\n"
   ]
  },
  {
   "cell_type": "code",
   "execution_count": 73,
   "id": "3ccce45b-9e74-4827-8d70-ede9a8bb7144",
   "metadata": {},
   "outputs": [
    {
     "name": "stdout",
     "output_type": "stream",
     "text": [
      "Original numbers: [1, 2, 3, 4, 5]\n",
      "Squared numbers: [1, 4, 9, 16, 25]\n"
     ]
    }
   ],
   "source": [
    "#4\n",
    "def apply_function_to_list(numbers, func):\n",
    "    \"\"\"This function applies a given function to each element in a list.\"\"\"\n",
    "    result = []\n",
    "    for num in numbers:\n",
    "        result.append(func(num))\n",
    "    return result\n",
    "\n",
    "def square(x):\n",
    "    \"\"\"This function squares a number.\"\"\"\n",
    "    return x ** 2\n",
    "\n",
    "numbers = [1, 2, 3, 4, 5]\n",
    "\n",
    "squared_numbers = apply_function_to_list(numbers, square)\n",
    "\n",
    "print(\"Original numbers:\", numbers)\n",
    "print(\"Squared numbers:\", squared_numbers)\n"
   ]
  },
  {
   "cell_type": "code",
   "execution_count": 74,
   "id": "fbaf0c51-b852-443e-9936-083f6a26c8d6",
   "metadata": {},
   "outputs": [],
   "source": [
    "# BUILT IN FUNCTIONS"
   ]
  },
  {
   "cell_type": "raw",
   "id": "e57cea46-04f3-413b-9f04-4250f6906e1f",
   "metadata": {},
   "source": [
    "#1\n",
    "len(): The len() function is used to determine the length or the number of items in an iterable (such as a string, list, tuple, or dictionary). It returns the count of elements in the given object.\n",
    "\n",
    "max(): The max() function is used to find the maximum value among a set of values, either within an iterable or as separate arguments. It returns the largest value.\n",
    "\n",
    "min(): The min() function is used to find the minimum value among a set of values, either within an iterable or as separate arguments. It returns the smallest value."
   ]
  },
  {
   "cell_type": "code",
   "execution_count": 75,
   "id": "11a23728-637d-4631-a9b2-8e860f6c4eb6",
   "metadata": {},
   "outputs": [
    {
     "name": "stdout",
     "output_type": "stream",
     "text": [
      "Original numbers: [1, 2, 3, 4, 5]\n",
      "Squared numbers: [1, 4, 9, 16, 25]\n"
     ]
    }
   ],
   "source": [
    "#2\n",
    "def square(x):\n",
    "    \"\"\"This function squares a number.\"\"\"\n",
    "    return x ** 2\n",
    "\n",
    "numbers = [1, 2, 3, 4, 5]\n",
    "\n",
    "squared_numbers = list(map(square, numbers))\n",
    "\n",
    "print(\"Original numbers:\", numbers)\n",
    "print(\"Squared numbers:\", squared_numbers)\n"
   ]
  },
  {
   "cell_type": "code",
   "execution_count": 76,
   "id": "d50e498e-38b7-4305-88a8-9dcc5d585a0a",
   "metadata": {},
   "outputs": [],
   "source": [
    "#3"
   ]
  },
  {
   "cell_type": "code",
   "execution_count": 77,
   "id": "7b797b13-0719-46cc-a9b3-06d2bc16ffa4",
   "metadata": {},
   "outputs": [
    {
     "name": "stdout",
     "output_type": "stream",
     "text": [
      "Numbers: [1, 2, 3, 4, 5]\n",
      "Product: 120\n"
     ]
    }
   ],
   "source": [
    "#4\n",
    "from functools import reduce\n",
    "\n",
    "def multiply(x, y):\n",
    "    \"\"\"This function multiplies two numbers.\"\"\"\n",
    "    return x * y\n",
    "\n",
    "numbers = [1, 2, 3, 4, 5]\n",
    "\n",
    "product = reduce(multiply, numbers)\n",
    "\n",
    "print(\"Numbers:\", numbers)\n",
    "print(\"Product:\", product)\n"
   ]
  },
  {
   "cell_type": "code",
   "execution_count": 78,
   "id": "4bd98839-e2bd-4ede-a194-01c880d7351d",
   "metadata": {},
   "outputs": [],
   "source": [
    "# fuNCTIONS DOCUMENTES AND BEST PRACTICES"
   ]
  },
  {
   "cell_type": "raw",
   "id": "6b9240e9-5409-4981-9038-1c89aa5f4d2c",
   "metadata": {},
   "source": [
    "#1\n",
    "Docstrings in Python functions are used to provide documentation and information about the purpose, usage, and behavior of the function. They are intended to serve as a form of inline documentation that can be accessed using tools like help() or documentation generators.\n",
    "\n",
    "A docstring is a multi-line string that appears as the first statement in a function definition (or module, class, or method definition). It is enclosed in triple-quotes (''' or \"\"\") and should contain a clear and concise description of what the function does, what arguments it accepts, what it returns, and any other relevant information.\n",
    "\n",
    "def add_numbers(a, b):\n",
    "    \"\"\"\n",
    "    This function adds two numbers.\n",
    "\n",
    "    Args:\n",
    "        a (int): The first number to be added.\n",
    "        b (int): The second number to be added.\n",
    "\n",
    "    Returns:\n",
    "        int: The sum of the two input numbers.\n",
    "    \"\"\"\n",
    "    return a + b\n"
   ]
  },
  {
   "cell_type": "raw",
   "id": "52eabb1d-9f70-486b-8edd-745166f72e5e",
   "metadata": {},
   "source": [
    "#2\n",
    "Naming functions and variables in Python follows certain naming conventions and best practices to enhance code readability and maintainability. Here are some guidelines:\n",
    "\n",
    "Function Names:\n",
    "\n",
    "Use lowercase letters with words separated by underscores (snake_case).\n",
    "Choose descriptive names that reflect the function's purpose.\n",
    "Use verbs to describe actions (e.g., calculate_sum, find_max_value).\n",
    "Follow the PEP 8 style guide for function names.\n",
    "Variable Names:\n",
    "\n",
    "Use lowercase letters with words separated by underscores (snake_case).\n",
    "Use meaningful and descriptive names.\n",
    "Variables representing constants should be in uppercase with underscores (e.g., MAX_VALUE).\n",
    "Avoid single-letter variable names (except for common iterators like i, j, k).\n",
    "Follow the PEP 8 style guide for variable names.\n",
    "Module Names:\n",
    "\n",
    "Use lowercase letters with words separated by underscores (snake_case).\n",
    "Module names should be short, concise, and indicative of the module's purpose.\n",
    "Class Names:\n",
    "\n",
    "Use CamelCase (capitalizing the first letter of each word without spaces).\n",
    "Class names should be nouns and follow a consistent naming pattern (e.g., MyClass, PersonDetails).\n",
    "Avoid Reserved Words:\n",
    "\n",
    "Avoid using Python's reserved words (e.g., if, else, while) as variable or function names.\n",
    "Be Consistent:\n",
    "\n",
    "Maintain consistency in naming conventions throughout your codebase.\n",
    "Follow any project-specific naming conventions if applicable.\n",
    "Use Clear and Meaningful Names:\n",
    "\n",
    "Choose names that make the purpose and usage of variables and functions evident without needing extensive comments."
   ]
  }
 ],
 "metadata": {
  "kernelspec": {
   "display_name": "Python 3 (ipykernel)",
   "language": "python",
   "name": "python3"
  },
  "language_info": {
   "codemirror_mode": {
    "name": "ipython",
    "version": 3
   },
   "file_extension": ".py",
   "mimetype": "text/x-python",
   "name": "python",
   "nbconvert_exporter": "python",
   "pygments_lexer": "ipython3",
   "version": "3.10.8"
  }
 },
 "nbformat": 4,
 "nbformat_minor": 5
}
